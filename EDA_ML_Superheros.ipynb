{
 "cells": [
  {
   "cell_type": "code",
   "execution_count": null,
   "metadata": {},
   "outputs": [],
   "source": [
    "#For Cleaning and Exploratory Data Analysis\n",
    "import pandas as pd\n",
    "import numpy as np\n",
    "import re\n",
    "import statsmodels.api as sm\n",
    "from scipy import stats\n",
    "\n",
    "#For Plotting\n",
    "import seaborn as sns\n",
    "import matplotlib.pyplot as plt\n",
    "from matplotlib.pyplot import plot, show, draw, figure\n",
    "from mpl_toolkits.mplot3d import Axes3D\n",
    "\n",
    "#For Plotly\n",
    "import plotly.express as px\n",
    "import plotly.graph_objects as go\n",
    "from plotly.subplots import make_subplots\n",
    "\n",
    "#For Dimensionality Reduction and K-Means\n",
    "from sklearn.manifold import TSNE\n",
    "from sklearn.decomposition import PCA\n",
    "from sklearn.preprocessing import StandardScaler\n",
    "from scipy.cluster.vq import kmeans, whiten, vq\n",
    "from sklearn.cluster import KMeans\n",
    "from sklearn.metrics import silhouette_score\n",
    "\n",
    "#For Cluster Analysis\n",
    "import math\n",
    "\n",
    "#For Decision Tree\n",
    "from sklearn.ensemble import RandomForestClassifier\n",
    "from sklearn.tree import DecisionTreeClassifier\n",
    "from sklearn import metrics\n",
    "from sklearn.model_selection import train_test_split\n",
    "from sklearn import tree\n",
    "from sklearn.tree import export_graphviz\n",
    "from sklearn.externals.six import StringIO  \n",
    "from IPython.display import Image  \n",
    "import pydotplus\n",
    "\n",
    "#For Hierarchical Clustering\n",
    "import plotly.figure_factory as ff\n",
    "from scipy.cluster.hierarchy import linkage, dendrogram\n",
    "\n",
    "#Settings\n",
    "import warnings\n",
    "warnings.filterwarnings(\"ignore\")\n",
    "pd.set_option('display.max_columns', 100)\n",
    "pd.set_option('display.max_rows', 100)"
   ]
  },
  {
   "cell_type": "code",
   "execution_count": null,
   "metadata": {},
   "outputs": [],
   "source": [
    "df = pd.read_csv('superheroes.csv')"
   ]
  },
  {
   "cell_type": "markdown",
   "metadata": {},
   "source": [
    "# Cleaning"
   ]
  },
  {
   "cell_type": "code",
   "execution_count": null,
   "metadata": {
    "scrolled": true
   },
   "outputs": [],
   "source": [
    "#drop unnecessary columns\n",
    "df_dropped = df.drop(df.columns[[1, 2, 4, 5, 12, 13, 14, 15, 16, 19, 20, 21, 22, 27, 28, 29, 30]], axis=1)\n",
    "\n",
    "#replace dashes in overall_score with mean of the column\n",
    "#mean has been calculated in excel beforehand and must be a string. Otherwise it cannot be fit into overall_scores, which is an object column.\n",
    "df_dropped['overall_score'] = df_dropped['overall_score'].replace(['-'], '15')\n",
    "\n",
    "#typecast overall_score into numeric (otherwise, no numerical methods can be applied to it)\n",
    "df_dropped['overall_score'] = pd.to_numeric(df_dropped['overall_score'], errors='coerce')\n",
    "\n",
    "#replace NaNs in overall_score (which come from infinity score values that became NaNs through typecasting) with 1000\n",
    "df_dropped['overall_score'] = df_dropped['overall_score'].fillna(value=1000)\n",
    "\n",
    "#replace dashes in height and weight with NaN\n",
    "df_dropped['height'] = df_dropped['height'].replace(['-'], np.nan)\n",
    "df_dropped['weight'] = df_dropped['weight'].replace(['-'], np.nan)\n",
    "\n",
    "#remove US Standard Units (inches and lb) from height and weight column\n",
    "df_dropped['weight'] = df_dropped['weight'].apply(lambda x: re.findall(r'(\\d+)\\s*kg', str(x)))\n",
    "df_dropped['height'] = df_dropped['height'].apply(lambda x: re.findall(r'(\\d+)\\s*cm', str(x)))\n",
    "\n",
    "#turn entries of height and weight columns into strings (otherwise, they cannot be typecasted into numerics)\n",
    "df_dropped['weight'] = df_dropped['weight'].str.get(0)\n",
    "df_dropped['height'] = df_dropped['height'].str.get(0)\n",
    "\n",
    "#typecast height and weight columns into numerics\n",
    "df_dropped['weight'] = pd.to_numeric(df_dropped['weight'], errors='coerce')\n",
    "df_dropped['height'] = pd.to_numeric(df_dropped['height'], errors='coerce')\n",
    "\n",
    "#rename height and weight columns into height_cm and weight_kg\n",
    "df_clean = df_dropped.rename(columns = {'height':'height_cm','weight':'weight_kg'})"
   ]
  },
  {
   "cell_type": "markdown",
   "metadata": {},
   "source": [
    "# Exploratory Data Analysis\n",
    "## Alignment and Scores"
   ]
  },
  {
   "cell_type": "code",
   "execution_count": null,
   "metadata": {
    "scrolled": true
   },
   "outputs": [],
   "source": [
    "#Can overall_score be explained by one of the other score variables, or by a sum of them?\n",
    "\n",
    "#create column that sums all score variables, except of the overall_score\n",
    "df_clean['sum_scores'] = df_clean.intelligence_score + df_clean.strength_score + df_clean.speed_score + df_clean.durability_score + df_clean.power_score + df_clean.combat_score\n",
    "\n",
    "#create subset dataframe that contains score variables only\n",
    "df_scores = df_clean[['intelligence_score', 'strength_score', 'speed_score', 'durability_score', 'power_score', \n",
    "         'combat_score', 'overall_score', 'sum_scores']]\n",
    "\n",
    "#create correlation matrix (Pearson's) and heatmap\n",
    "corr_matrix = df_scores.corr()\n",
    "#sns.heatmap(corr_matrix, annot=True)\n",
    "#plt.title(\"Pearson's Correlations of Score Variables\")\n",
    "#plt.show()"
   ]
  },
  {
   "cell_type": "code",
   "execution_count": null,
   "metadata": {},
   "outputs": [],
   "source": [
    "#Plotly Code\n",
    "fig = go.Figure(data=go.Heatmap(\n",
    "                 z=corr_matrix, x = ['Intelligence','Strength', 'Speed', 'Durability','Power',\n",
    "         'Combat', 'Overall score', 'Sum of scores'], y= ['Intelligence','Strength', 'Speed', 'Durability', 'Power',\n",
    "         'Combat', 'Overall score', 'Sum of scores']))\n",
    "fig.update_layout(title_text=\"Pearson's Correlations of Score Variables of Superheroes\")\n",
    "fig.show()"
   ]
  },
  {
   "cell_type": "code",
   "execution_count": null,
   "metadata": {},
   "outputs": [],
   "source": [
    "#Show distribution of alignments among superheroes\n",
    "\n",
    "#df_clean['alignment'].value_counts().plot(kind='bar', rot=0, color=['blue', 'red', 'orange'])\n",
    "#plt.xlabel('Alignment', labelpad=14)\n",
    "#plt.ylabel('Number of Superheros', labelpad=14)\n",
    "#plt.title('Distribution of Alignments among Superheros', y=1.02)\n",
    "#plt.show()"
   ]
  },
  {
   "cell_type": "code",
   "execution_count": null,
   "metadata": {},
   "outputs": [],
   "source": [
    "#Plotly code\n",
    "alignment = ['Good','Bad','Neutral']\n",
    "fig = go.Figure([go.Bar(x=alignment, y=[795, 449, 124], marker_color=['blue','orange','green'])])\n",
    "fig.update_layout(barmode='group', title_text='Distribution of Alignments among Superheroes')\n",
    "fig.show()"
   ]
  },
  {
   "cell_type": "code",
   "execution_count": null,
   "metadata": {
    "scrolled": false
   },
   "outputs": [],
   "source": [
    "#Which superhero has the most superpowers?\n",
    "\n",
    "#create column that sums up superpowers per superhero\n",
    "df_clean['sum_superpowers'] = df_clean.loc[:, 'has_electrokinesis':'has_super_strength'].sum(axis=1)\n",
    "\n",
    "#Find name and alignment of superhero with most superpowers\n",
    "max_superpowers = df_clean['sum_superpowers'].max()\n",
    "name_max_superpowers = df_clean.query('sum_superpowers == @max_superpowers')['name'].values[0]\n",
    "alignment_max_superpowers = df_clean.query('sum_superpowers == @max_superpowers')['alignment'].values[0]\n",
    "\n",
    "#Create a subset dataframe, containing only the row of the superhero with the most superpowers\n",
    "df_name_max_superpowers = df_clean.query('name == @name_max_superpowers')\n",
    "\n",
    "#Extract the column names of the superpowers (they are stored in an index format, which is bad to handle)\n",
    "superpowers = df_name_max_superpowers.columns[(df_name_max_superpowers == 1.0).iloc[0]]\n",
    "\n",
    "#convert index format into a list\n",
    "list_superpowers = superpowers.tolist()\n",
    "\n",
    "#convert list into one string (otherwise, the superpowers cannot be stored in one single cell of a dataframe later on)\n",
    "string_superpowers = ', '.join(map(str, list_superpowers))\n",
    "\n",
    "#create dataframe, which contains the variables from above\n",
    "d = {'Name': name_max_superpowers, 'Alignment': alignment_max_superpowers, 'Number of Superpowers': max_superpowers, 'List of Superpowers': string_superpowers}\n",
    "df_superhero_with_most_superpowers = pd.DataFrame(data=d, index=['1'])\n",
    "\n",
    "#expand the displayed width of columns, so that the long string of superpowers is displayed\n",
    "pd.set_option('display.max_colwidth', None)\n",
    "df_superhero_with_most_superpowers"
   ]
  },
  {
   "cell_type": "code",
   "execution_count": null,
   "metadata": {},
   "outputs": [],
   "source": [
    "#Which alignment has most superpowers on average?\n",
    "\n",
    "#Create a subset dataframe for each alignment level\n",
    "df_good = df_clean.query(\"alignment == 'Good'\")\n",
    "df_bad = df_clean.query(\"alignment == 'Bad'\")\n",
    "df_neutral = df_clean.query(\"alignment == 'Neutral'\")\n",
    "\n",
    "#Compute mean of sum_superpowers for each subset\n",
    "mean_good = round(df_good['sum_superpowers'].mean())\n",
    "mean_bad = round(df_bad['sum_superpowers'].mean())\n",
    "mean_neutral = round(df_neutral['sum_superpowers'].mean())\n",
    "\n",
    "#Plot means\n",
    "#sns.barplot(x = ['Good', 'Bad', 'Neutral'], y = [mean_good, mean_bad, mean_neutral])\n",
    "#plt.xlabel('Alignment', labelpad=14)\n",
    "#plt.ylabel('Average Number of Superpowers', labelpad=14)\n",
    "#plt.title('Average Number of Superpowers per Alignment', y=1.02)\n",
    "#plt.show()"
   ]
  },
  {
   "cell_type": "code",
   "execution_count": null,
   "metadata": {},
   "outputs": [],
   "source": [
    "#Plotly Code\n",
    "alignment = ['Good','Bad','Neutral']\n",
    "mean_good = round(df_good['sum_superpowers'].mean())\n",
    "mean_bad = round(df_bad['sum_superpowers'].mean())\n",
    "mean_neutral = round(df_neutral['sum_superpowers'].mean())\n",
    "fig = go.Figure([go.Bar(x=alignment, y=[mean_good, mean_bad, mean_neutral], marker_color=['blue','orange','green'])])\n",
    "fig.update_layout(barmode='group', title_text='Average Number of Superpowers per Alignment')\n",
    "fig.show()"
   ]
  },
  {
   "cell_type": "code",
   "execution_count": null,
   "metadata": {},
   "outputs": [],
   "source": [
    "#Kruskal-Wallis Test: Does the alignment of a superhero have a significant effect on the number of superpowers he/she develops?\n",
    "#Kruskal-Wallis serves as an alternative for Anova, since we cannot use Anova because sum_superpowers is not normally distributed\n",
    "\n",
    "#create 3 dataframes, each containing one factor level of alignment\n",
    "df_clean_good = df_clean.query(\"alignment == 'Good'\")\n",
    "df_clean_bad = df_clean.query(\"alignment == 'Bad'\")\n",
    "df_clean_neutral = df_clean.query(\"alignment == 'Neutral'\")\n",
    "\n",
    "#perform Kruskal-Wallis Test \n",
    "stats.kruskal(df_clean_good['sum_superpowers'], df_clean_bad['sum_superpowers'], df_clean_neutral['sum_superpowers'])\n",
    "#pvalue=2.9290783036492544e-09\n",
    "#type of alignment has a statistically significant influence on number of superpowers"
   ]
  },
  {
   "cell_type": "code",
   "execution_count": null,
   "metadata": {},
   "outputs": [],
   "source": [
    "# Which creator studios have crated how many good, bad and neutral characters?\n",
    "\n",
    "#matplotlib plot\n",
    "#grouped1 = df_clean.groupby(['creator','alignment']).size().reset_index(name='count')\n",
    "#grouped1.pivot( \"creator\",\"alignment\", \"count\").plot(kind='bar', figsize=(20, 6))\n",
    "#plt.title('Alignments of Superheroes created by Studios')\n",
    "#plt.show()"
   ]
  },
  {
   "cell_type": "code",
   "execution_count": null,
   "metadata": {},
   "outputs": [],
   "source": [
    "#Plotly Code\n",
    "creators=['ABC Studios', 'Capcom', 'Cartoon Network','Clive Barker','DC Comics','Dark Horse Comics','Disney','Dreamworks','George Lucas',\n",
    "'George R. R. Martin','Hanna-Barbera','HarperCollins','Hasbro','IDW Publishing','Ian Fleming','Icon Comics','Image Comics','J. K. Rowling',\n",
    "'J. R. R. Tolkien','Konami','Lego','Marvel Comics','Matt Groening','Mattel','Microsoft','Mortal Kombat','NBC - Heroes','Nintendo','Sega',\n",
    "'Shueisha','Sony Pictures','South Park','Star Trek','Stephen King','SyFy','Team Epic TV','Ubisoft','Universal Studios','Wildstorm']\n",
    "fig = go.Figure(data=[\n",
    "    go.Bar(name='Good', x=creators, y=[4,2,1,1,231,18,2,1,11,3,1,6,1,1,1,3,6,5,6,0,12,340,0,0,1,1,13,3,1,24,3,1,4,0,6,5,9,1,6]),\n",
    "    go.Bar(name='Bad', x=creators, y=[0,1,0,1,155,9,0,0,6,2,0,0,2,1,0,1,10,3,1,1,5,189,0,1,0,1,3,1,0,6,0,0,0,1,0,1,0,0,1]),\n",
    "    go.Bar(name='Neutral',x=creators, y=[0,1,1,0,43,2,1,0,0,2,0,0,0,0,0,0,1,0,0,0,4,39,1,0,0,1,0,0,0,7,0,0,0,0,0,0,0,0,0])\n",
    "])\n",
    "fig.update_layout(barmode='group', title_text='Alignments of Superheroes created by Studios')\n",
    "fig.show()"
   ]
  },
  {
   "cell_type": "code",
   "execution_count": null,
   "metadata": {},
   "outputs": [],
   "source": [
    "# Poisson regression code\n",
    "\n",
    "#remove outliers from overall_score and sum_superpowers\n",
    "df_poisson = df_clean.query(\"overall_score < 401 & sum_superpowers < 21\")\n",
    "\n",
    "#dependent variable\n",
    "y=df_poisson['sum_superpowers']\n",
    "\n",
    "#independent variable\n",
    "x= df_poisson['overall_score']\n",
    "\n",
    "exog, endog = sm.add_constant(x), y\n",
    "mod = sm.GLM(endog, exog,\n",
    "             family=sm.families.Poisson(link=sm.families.links.log()))\n",
    "res = mod.fit()\n",
    "print(res.summary())\n",
    "'''Interpretation of result: For each additional point in the overall_score of a superhero, the sum of the superpowers of \n",
    "the superhero increases by 0.0107 points.'''"
   ]
  },
  {
   "cell_type": "code",
   "execution_count": null,
   "metadata": {},
   "outputs": [],
   "source": [
    "#Show Slytherin superheroes\n",
    "\n",
    "#subset of Harry Potter characters\n",
    "df_jkr = df_clean.query(\"creator == 'J. K. Rowling'\")\n",
    "\n",
    "#assign Harry Potter house to each character\n",
    "df_jkr['house']=['NaN', 'Gryffindor', 'Gryffindor', 'Slytherin', 'Slytherin', 'Gryffindor', 'Slytherin', 'Gryffindor']\n",
    "#Search for Slytherins\n",
    "df_jkr_slyth = df_jkr[(df_jkr['house'] == 'Slytherin')]\n",
    "df_jkr_slyth"
   ]
  },
  {
   "cell_type": "markdown",
   "metadata": {},
   "source": [
    "## Gender Studies"
   ]
  },
  {
   "cell_type": "code",
   "execution_count": null,
   "metadata": {},
   "outputs": [],
   "source": [
    "#subsets of female and male superheroes\n",
    "df_female = df_clean[df_clean[\"gender\"] == 'Female']\n",
    "df_male = df_clean[df_clean[\"gender\"] == 'Male']\n",
    "df_mean_m = df_male.mean()\n",
    "df_mean_f = df_female.mean()\n",
    "\n",
    "align_male = df_male['alignment'].value_counts()\n",
    "align_female = df_female['alignment'].value_counts()\n",
    "\n",
    "scores=['Intelligence','Strength','Speed','Durability','Power', 'Combat']"
   ]
  },
  {
   "cell_type": "code",
   "execution_count": null,
   "metadata": {},
   "outputs": [],
   "source": [
    "#Is super hero a male job? (percentage bar)\n",
    "fig3 = go.Figure()\n",
    "fig3.add_trace(go.Bar( \n",
    "    x=[len(df_male)],\n",
    "    text=['66.9%'], textposition='auto',textfont_size=20,\n",
    "    name='Men',\n",
    "    orientation='h',\n",
    "    marker=dict(\n",
    "        color='MediumSeaGreen',        \n",
    "    )\n",
    "))\n",
    "fig3.add_trace(go.Bar(\n",
    "  \n",
    "    x=[len(df_female)],\n",
    "    text=['23.1%'], textposition='inside',textfont_size=20,\n",
    "    name='Women',\n",
    "    orientation='h',\n",
    "    marker=dict(\n",
    "        color='GreenYellow',       \n",
    "    )    \n",
    "))\n",
    "fig3.add_trace(go.Bar(\n",
    "    \n",
    "    x=[len(df_clean)-len(df_male)-len(df_female)],\n",
    "    text=['10%'], textposition='inside',textfont_size=20,\n",
    "    name='Gender-neutral',\n",
    "    orientation='h',\n",
    "    marker=dict(\n",
    "        color='LightGray',\n",
    "    )\n",
    "))\n",
    "fig3.update_layout(barmode='stack', title_text='Distribution of Genders among Superheroes', yaxis=dict(\n",
    "        showgrid=False,\n",
    "        showline=False,\n",
    "        showticklabels=False,\n",
    "        zeroline=False,))\n",
    "\n",
    "fig3.show()"
   ]
  },
  {
   "cell_type": "code",
   "execution_count": null,
   "metadata": {},
   "outputs": [],
   "source": [
    "#Are characteristics asigned equally between genders?\n",
    "\n",
    "fig1 = go.Figure(data=[\n",
    "    go.Bar(name='Men', x=scores, y=df_mean_m[1:7], marker_color='MediumSeaGreen'),\n",
    "    go.Bar(name='Women', x=scores, y=df_mean_f[1:7], marker_color='GreenYellow'), \n",
    "])\n",
    "\n",
    "fig1.update_layout(barmode='group', title_text='Mean Scores of Male and Female Superheroes')\n",
    "fig1.show()"
   ]
  },
  {
   "cell_type": "code",
   "execution_count": null,
   "metadata": {},
   "outputs": [],
   "source": [
    "#What is the alignment in two genders? Are women supposed to be 'good'?\n",
    "\n",
    "fig2 = make_subplots(rows=1, cols=2)\n",
    "\n",
    "fig2.add_trace(\n",
    "    go.Bar(name='Men', x=['Good', 'Bad', 'Neutral'], y=align_male, marker_color='MediumSeaGreen'),\n",
    "    row=1, col=1\n",
    ")\n",
    "\n",
    "fig2.add_trace(\n",
    "    go.Bar(name='Women', x=['Good', 'Bad', 'Neutral'], y=align_female, marker_color='GreenYellow'),\n",
    "    row=1, col=2\n",
    ")\n",
    "\n",
    "fig2.update_layout(height=600, width=800, title_text=\"Superheroes by Alignment\")\n",
    "fig2.show()"
   ]
  },
  {
   "cell_type": "markdown",
   "metadata": {},
   "source": [
    "# Machine Learning\n",
    "## K-Means\n",
    "### Dimensionality Reduction with T-SNE"
   ]
  },
  {
   "cell_type": "code",
   "execution_count": null,
   "metadata": {
    "scrolled": false
   },
   "outputs": [],
   "source": [
    "#Reduction of dimensionality of numerical variables with T-SNE\n",
    "\n",
    "#Define dataframe for T-SNE\n",
    "columns= ['overall_score','intelligence_score', 'strength_score', 'speed_score', 'durability_score', 'power_score', 'combat_score'\n",
    "         , 'gender', 'sum_superpowers']\n",
    "df_tsne = pd.DataFrame(df_clean, columns=columns)\n",
    "\n",
    "#replace gender levels by 1 and 0\n",
    "df_tsne['gender'].replace('Male','1', inplace=True)\n",
    "df_tsne['gender'].replace('Female','0', inplace=True)\n",
    "df_tsne['gender'] = pd.to_numeric(df_tsne['gender'])\n",
    "\n",
    "#remove all NAs that are left (because T-SNE need a dataframe that does not contain NAs)\n",
    "df_tsne.dropna(inplace=True)"
   ]
  },
  {
   "cell_type": "code",
   "execution_count": null,
   "metadata": {},
   "outputs": [],
   "source": [
    "#Scale dataframe with StandardScaler\n",
    "scaler = StandardScaler()\n",
    "features = df_tsne.to_numpy()\n",
    "scaled_df_tsne = scaler.fit_transform(features)\n",
    "model = TSNE(n_components=3, random_state=42)\n",
    "tsne_data = model.fit_transform(scaled_df_tsne)\n",
    "\n",
    "#turn scaled data back into a dataframe\n",
    "columns2 = ['Dim1', 'Dim2', 'Dim3']\n",
    "tsne_data_kmean = pd.DataFrame(tsne_data, columns=columns2)"
   ]
  },
  {
   "cell_type": "markdown",
   "metadata": {},
   "source": [
    "### K-Means for T-SNE-reduced Dataframe"
   ]
  },
  {
   "cell_type": "code",
   "execution_count": null,
   "metadata": {},
   "outputs": [],
   "source": [
    "#using Elbow method to choose best number of cluster k\n",
    "sse = [] # sse is distortions\n",
    "for k in range(1, 11):\n",
    "    kmeans_tsne = KMeans(init='random', n_clusters = k, n_init=12, max_iter=300, random_state=42)\n",
    "    kmeans_tsne.fit(tsne_data_kmean)\n",
    "    sse.append(kmeans_tsne.inertia_)\n",
    "#sns.lineplot(x=range(1, 11), y= sse)"
   ]
  },
  {
   "cell_type": "code",
   "execution_count": null,
   "metadata": {},
   "outputs": [],
   "source": [
    "#run for k = 4. \n",
    "kmeans_tsne= KMeans(init='random', n_clusters = 4, n_init=12, max_iter=300, random_state=42)\n",
    "kmeans_tsne.fit(tsne_data_kmean)"
   ]
  },
  {
   "cell_type": "code",
   "execution_count": null,
   "metadata": {},
   "outputs": [],
   "source": [
    "#Show sihlouette score of T-SNE for the chosen number of clusters\n",
    "print('KMeans Scaled Silhouette Score: {}'.format(silhouette_score(tsne_data_kmean, kmeans_tsne.labels_, metric='euclidean')))"
   ]
  },
  {
   "cell_type": "code",
   "execution_count": null,
   "metadata": {},
   "outputs": [],
   "source": [
    "#scatterplot in 2D in matplotlib\n",
    "#sns.scatterplot(x=tsne_data_kmean['Dim1'], y=tsne_data_kmean['Dim2'], hue = kmeans_tsne.labels_)\n",
    "#plt.show()\n",
    "\n",
    "#2d Plotly plot\n",
    "fig = px.scatter(x=tsne_data_kmean['Dim1'], y=tsne_data_kmean['Dim2'], color = kmeans_tsne.labels_.astype(str))\n",
    "fig.update_layout(title_text=\"2D Representation of t-SNE-reduced Clustering\", legend_title_text='Clusters')\n",
    "fig.show()"
   ]
  },
  {
   "cell_type": "code",
   "execution_count": null,
   "metadata": {},
   "outputs": [],
   "source": [
    "#Visualize 3 dimensions of T-SNE after running k-means\n",
    "#sns.set_style(\"whitegrid\", {'axes.grid' : False})\n",
    "\n",
    "#fig = plt.figure(figsize=(6,6))\n",
    "\n",
    "#ax = Axes3D(fig)\n",
    "#x = tsne_data_kmean['Dim1']\n",
    "#y = tsne_data_kmean['Dim2']\n",
    "#z = tsne_data_kmean['Dim3']\n",
    "\n",
    "#ax.scatter(x, y, z, c=kmeans_tsne.labels_, marker='o')\n",
    "#ax.set_xlabel('Dim1')\n",
    "#ax.set_ylabel('Dim2')\n",
    "#ax.set_zlabel('Dim3')\n",
    "\n",
    "#plt.show()"
   ]
  },
  {
   "cell_type": "code",
   "execution_count": null,
   "metadata": {},
   "outputs": [],
   "source": [
    "#plotly 3D representation with labels\n",
    "tsne_data_kmean['clusters'] = kmeans_tsne.labels_\n",
    "df_3D_tsne = tsne_data_kmean\n",
    "df_3D_tsne['clusters'].replace(0,'cluster 0', inplace=True)\n",
    "df_3D_tsne['clusters'].replace(1,'cluster 1', inplace=True)\n",
    "df_3D_tsne['clusters'].replace(2,'cluster 2', inplace=True)\n",
    "df_3D_tsne['clusters'].replace(3,'cluster 3', inplace=True)\n",
    "fig = px.scatter_3d(df_3D_tsne, x='Dim1', y='Dim2', z='Dim3',\n",
    "              color='clusters')\n",
    "fig.show()"
   ]
  },
  {
   "cell_type": "markdown",
   "metadata": {},
   "source": [
    "### Dimensionality Reduction with PCA"
   ]
  },
  {
   "cell_type": "code",
   "execution_count": null,
   "metadata": {},
   "outputs": [],
   "source": [
    "#Reduction of dimensionality of numerical variables with PCA\n",
    "\n",
    "#Define dataframe for PCA\n",
    "columns3= ['overall_score','intelligence_score', 'strength_score', 'speed_score', 'durability_score', 'power_score', 'combat_score'\n",
    "         , 'gender', 'sum_superpowers']\n",
    "df_pca2 = pd.DataFrame(df_clean, columns=columns3) \n",
    "\n",
    "#replace gender levels by 1 and 0 (because PCA cannot deal with non-numeric values)\n",
    "df_pca2['gender'].replace('Male','1', inplace=True)\n",
    "df_pca2['gender'].replace('Female','0', inplace=True)\n",
    "df_pca2['gender'] = pd.to_numeric(df_pca2['gender'])\n",
    "\n",
    "#remove all NAs that are left (because PCA cannot deal with NAs)\n",
    "df_pca2.dropna(inplace=True)"
   ]
  },
  {
   "cell_type": "code",
   "execution_count": null,
   "metadata": {},
   "outputs": [],
   "source": [
    "#Scale dataframe with StandardScaler\n",
    "scaler2 = StandardScaler()\n",
    "features2 = df_pca2.to_numpy()\n",
    "scaled_features = scaler2.fit_transform(features2)\n",
    "pca = PCA()\n",
    "pca.fit(scaled_features)\n",
    "\n",
    "# new features\n",
    "df_pca2_new = np.transpose(pca.fit_transform(scaled_features))\n",
    "\n",
    "#get the 3 most important pca components\n",
    "df_pca2_new[:3]\n",
    "\n",
    "#create new dataframe for these three features\n",
    "columns4 = ['PC1', 'PC2', 'PC3']\n",
    "df_pca2_kmean = pd.DataFrame(data=np.transpose(df_pca2_new[:3]), columns=columns4)"
   ]
  },
  {
   "cell_type": "markdown",
   "metadata": {},
   "source": [
    "### K-Means for PCA-reduced Dataframe"
   ]
  },
  {
   "cell_type": "code",
   "execution_count": null,
   "metadata": {},
   "outputs": [],
   "source": [
    "#using Elbow method to choose best number of cluster k\n",
    "sse = [] # sse is distortions\n",
    "for k in range(1, 11):\n",
    "    kmeans_pca = KMeans(init='random', n_clusters = k, n_init=12, max_iter=300, random_state=42)\n",
    "    kmeans_pca.fit(df_pca2_kmean)\n",
    "    sse.append(kmeans_pca.inertia_)\n",
    "#sns.lineplot(x=range(1, 11), y= sse)"
   ]
  },
  {
   "cell_type": "code",
   "execution_count": null,
   "metadata": {},
   "outputs": [],
   "source": [
    "#run for k = 4. \n",
    "kmeans_pca = KMeans(init='random', n_clusters = 4, n_init=12, max_iter=300, random_state=42)\n",
    "kmeans_pca.fit(df_pca2_kmean)"
   ]
  },
  {
   "cell_type": "code",
   "execution_count": null,
   "metadata": {},
   "outputs": [],
   "source": [
    "#Show sihlouette score of PCA for the chosen number of clusters\n",
    "print('KMeans Scaled Silhouette Score: {}'.format(silhouette_score(df_pca2_kmean, kmeans_pca.labels_, metric='euclidean')))"
   ]
  },
  {
   "cell_type": "code",
   "execution_count": null,
   "metadata": {},
   "outputs": [],
   "source": [
    "#scatterplot in 2D\n",
    "#sns.scatterplot(x=df_pca2_kmean['PC1'], y=df_pca2_kmean['PC2'], hue = kmeans_pca.labels_)\n",
    "#plt.show()\n",
    "\n",
    "#2d Plotly plot\n",
    "fig = px.scatter(x=df_pca2_kmean['PC1'], y=df_pca2_kmean['PC2'], color = kmeans_pca.labels_.astype(str))\n",
    "fig.update_layout(title_text=\"2D Representation of PCA-reduced Clustering\", legend_title_text='Clusters')\n",
    "fig.show()"
   ]
  },
  {
   "cell_type": "code",
   "execution_count": null,
   "metadata": {},
   "outputs": [],
   "source": [
    "#Visualize 3 dimensions of PCA after running k-means\n",
    "#sns.set_style(\"whitegrid\", {'axes.grid' : False})\n",
    "\n",
    "#fig = plt.figure(figsize=(6,6))\n",
    "\n",
    "#ax = Axes3D(fig)\n",
    "#x = df_pca2_kmean['PC1']\n",
    "#y = df_pca2_kmean['PC2']\n",
    "#z = df_pca2_kmean['PC3']\n",
    "\n",
    "#ax.scatter(x, y, z, c=kmeans_pca.labels_, marker='o')\n",
    "#ax.set_xlabel('PC1')\n",
    "#ax.set_ylabel('PC2')\n",
    "#ax.set_zlabel('PC3')\n",
    "\n",
    "#plt.show()"
   ]
  },
  {
   "cell_type": "code",
   "execution_count": null,
   "metadata": {},
   "outputs": [],
   "source": [
    "#plotly 3D representation with labels\n",
    "df_pca2_kmean['clusters'] = kmeans_pca.labels_\n",
    "df_3D_pca2 = df_pca2_kmean\n",
    "df_3D_pca2['clusters'].replace(0,'cluster 0', inplace=True)\n",
    "df_3D_pca2['clusters'].replace(1,'cluster 1', inplace=True)\n",
    "df_3D_pca2['clusters'].replace(2,'cluster 2', inplace=True)\n",
    "df_3D_pca2['clusters'].replace(3,'cluster 3', inplace=True)\n",
    "fig = px.scatter_3d(df_3D_pca2, x='PC1', y='PC2', z='PC3',\n",
    "              color='clusters')\n",
    "fig.show()"
   ]
  },
  {
   "cell_type": "markdown",
   "metadata": {},
   "source": [
    "### K-Means without Dimensionality Reduction"
   ]
  },
  {
   "cell_type": "code",
   "execution_count": null,
   "metadata": {},
   "outputs": [],
   "source": [
    "#run k-means without feature reduction\n",
    "\n",
    "#Define dataframe \n",
    "columns4= ['overall_score','intelligence_score', 'strength_score', 'speed_score', 'durability_score', 'power_score', 'combat_score'\n",
    "         , 'gender', 'sum_superpowers']\n",
    "df_no_reduction = pd.DataFrame(df_clean, columns=columns4) \n",
    "\n",
    "#Turn Gender into numerics\n",
    "df_no_reduction['gender'].replace('Male','1', inplace=True)\n",
    "df_no_reduction['gender'].replace('Female','0', inplace=True)\n",
    "df_no_reduction['gender'] = pd.to_numeric(df_no_reduction['gender'])\n",
    "\n",
    "#Drop NAs\n",
    "df_no_reduction.dropna(inplace=True)\n",
    "\n",
    "#Scale features of dataframe\n",
    "scaler3 = StandardScaler()\n",
    "features3 = df_no_reduction.to_numpy()\n",
    "kmean_df_no_reduction = scaler3.fit_transform(features3)\n",
    "\n",
    "#Determine best k for k-means\n",
    "sse = [] # sse is distortions\n",
    "for k in range(1, 11):\n",
    "    kmeans_orig = KMeans(init='random', n_clusters = k, n_init=12, max_iter=300, random_state=42)\n",
    "    kmeans_orig.fit(kmean_df_no_reduction)\n",
    "    sse.append(kmeans_orig.inertia_)\n",
    "#sns.lineplot(x=range(1, 11), y= sse)\n",
    "\n",
    "#run for k = 4.\n",
    "kmeans_orig = KMeans(init='random', n_clusters = 4, n_init=12, max_iter=300, random_state=42)\n",
    "kmeans_orig.fit(kmean_df_no_reduction)\n",
    "kmeans_orig.inertia_"
   ]
  },
  {
   "cell_type": "code",
   "execution_count": null,
   "metadata": {},
   "outputs": [],
   "source": [
    "#Show sihlouette score of k-means without feature reduction for the chosen number of clusters\n",
    "print('KMeans Scaled Silhouette Score: {}'.format(silhouette_score(kmean_df_no_reduction, kmeans_orig.labels_, metric='euclidean')))"
   ]
  },
  {
   "cell_type": "markdown",
   "metadata": {},
   "source": [
    "### Summary of K-Means \n",
    "In order to find the best clustering result, the K-Means algorithm has been applied to three different dataframes of the original cleaned dataset:\n",
    "1. T-SNE reduced Dataframe\n",
    "2. PCA-reduced Dataframe\n",
    "3. Unreduced Dataframe<br>\n",
    "All three dataframes have in common, that they only contain numerical data and that they do not contain NAs. Otherwise, the feature reductions would not work. Different selections of columns have been tested, and those, that are now loaded in the dataframes, have produced the best visually clustered results. For example, 'sum_scores' and 'alignment' have been left out: 'sum_scores', since it decreased the silhouette score, and 'alignment', since it dominated the clustering algorithm so severely, that the clusters were produced based almost on the alignment levels only.<br>After all, the T-SNE-reduced dataframe has produced the best clustering result (visually and according to the Silhouette Score) and will therefore be analyzed more in detail in the following chapter."
   ]
  },
  {
   "cell_type": "markdown",
   "metadata": {},
   "source": [
    "### Cluster Analysis of K-Means results for T-SNE-reduced Dataframe"
   ]
  },
  {
   "cell_type": "code",
   "execution_count": null,
   "metadata": {},
   "outputs": [],
   "source": [
    "#Cluster analysis of T-SNE result\n",
    "\n",
    "#Define function which will help to truncate decimal values\n",
    "def truncate(number, digits) -> float:\n",
    "    stepper = 10.0 ** digits\n",
    "    return math.trunc(stepper * number) / stepper\n",
    "\n",
    "#Determine number of superheroes in T-SNE dataframe\n",
    "len_tsne = df_tsne.shape[0]"
   ]
  },
  {
   "cell_type": "code",
   "execution_count": null,
   "metadata": {},
   "outputs": [],
   "source": [
    "#ANALYSIS OF CLUSTER 0\n",
    "#Create dataframe that only contains superheroes that have been assigned to cluster 0 by k-means algorithm\n",
    "labels_0 = np.where(kmeans_tsne.labels_ == 0)\n",
    "df_cluster_0 = df_tsne.iloc[labels_0]\n",
    "\n",
    "#compute ratio of number of superheroes in cluster 0 with respect to total number of superheroes in all clusters\n",
    "len_0 = df_cluster_0.shape[0]\n",
    "ratio_0 = truncate(len_0 / len_tsne * 100, 1)\n",
    "\n",
    "#compute ratios of gender\n",
    "f_0 = truncate(df_cluster_0[df_clean['gender']=='Female'].shape[0] / len_0 * 100, 1)\n",
    "m_0 = truncate(df_cluster_0[df_clean['gender']=='Male'].shape[0] / len_0 * 100, 1)\n",
    "\n",
    "#compute ratios of alignments\n",
    "g_0 = truncate(df_cluster_0[df_clean['alignment']=='Good'].shape[0] / len_0 * 100, 1)\n",
    "b_0 = truncate(df_cluster_0[df_clean['alignment']=='Bad'].shape[0] / len_0 * 100, 1)\n",
    "n_0 = truncate(df_cluster_0[df_clean['alignment']=='Neutral'].shape[0] / len_0 * 100, 1)\n",
    "u_0 = truncate(df_cluster_0[(df_clean['alignment'].isnull())].shape[0] / len_0 * 100, 1)\n",
    "\n",
    "#get basic statistics of cluster 0\n",
    "#print(df_cluster_0.mean(axis=0).round(1), df_cluster_0.max(axis=0), df_cluster_0.min(axis=0))\n",
    "\n",
    "\n",
    "#ANALYSIS OF CLUSTER 1\n",
    "#Create dataframe that only contains superheroes that have been assigned to cluster 1 by k-means algorithm\n",
    "labels_1 = np.where(kmeans_tsne.labels_ == 1)\n",
    "df_cluster_1 = df_tsne.iloc[labels_1]\n",
    "\n",
    "#compute ratio of number of superheroes of cluster 1 with respect to total number of superheroes in all clusters\n",
    "len_1 = df_cluster_1.shape[0]\n",
    "ratio_1 = truncate(len_1 / len_tsne * 100, 1)\n",
    "\n",
    "#compute ratios of gender\n",
    "f_1 = truncate(df_cluster_1[df_clean['gender']=='Female'].shape[0] / len_1 * 100, 1)\n",
    "m_1 = truncate(df_cluster_1[df_clean['gender']=='Male'].shape[0] / len_1 * 100, 1)\n",
    "\n",
    "#compute ratios of alignment\n",
    "g_1 = truncate(df_cluster_1[df_clean['alignment']=='Good'].shape[0] / len_1 * 100, 1)\n",
    "b_1 = truncate(df_cluster_1[df_clean['alignment']=='Bad'].shape[0] / len_1 * 100, 1)\n",
    "n_1 = truncate(df_cluster_1[df_clean['alignment']=='Neutral'].shape[0] / len_1 * 100, 1)\n",
    "u_1 = truncate(df_cluster_1[(df_clean['alignment'].isnull())].shape[0] / len_1 * 100, 1)\n",
    "\n",
    "#check for basic statistics of cluster 1\n",
    "#print(df_cluster_1.mean(axis=0).round(1), df_cluster_1.max(axis=0), df_cluster_1.min(axis=0))"
   ]
  },
  {
   "cell_type": "code",
   "execution_count": null,
   "metadata": {},
   "outputs": [],
   "source": [
    "#ANALYSIS OF CLUSTER 2\n",
    "#Create dataframe that only contains superheroes that have been assigned to cluster 2 by k-means algorithm\n",
    "labels_2 = np.where(kmeans_tsne.labels_ == 2)\n",
    "df_cluster_2 = df_tsne.iloc[labels_2]\n",
    "\n",
    "#compute ratio of number of superheroes in cluster 2 with respect to total number of superheroes in all clusters\n",
    "len_2 = df_cluster_2.shape[0]\n",
    "ratio_2 = truncate(len_2 / len_tsne * 100, 1)\n",
    "\n",
    "#compute ratios of gender\n",
    "f_2 = truncate(df_cluster_2[df_clean['gender']=='Female'].shape[0] / len_2 * 100, 1)\n",
    "m_2 = truncate(df_cluster_2[df_clean['gender']=='Male'].shape[0] / len_2 * 100, 1)\n",
    "\n",
    "#compute ratios of alignments\n",
    "g_2 = truncate(df_cluster_2[df_clean['alignment']=='Good'].shape[0] / len_2 * 100, 1)\n",
    "b_2 = truncate(df_cluster_2[df_clean['alignment']=='Bad'].shape[0] / len_2 * 100, 1)\n",
    "n_2 = truncate(df_cluster_2[df_clean['alignment']=='Neutral'].shape[0] / len_2 * 100, 1)\n",
    "u_2 = truncate(df_cluster_2[(df_clean['alignment'].isnull())].shape[0] / len_2 * 100, 1)\n",
    "\n",
    "#get basic statistics of cluster 2\n",
    "#print(df_cluster_2.mean(axis=0).round(1), df_cluster_2.max(axis=0), df_cluster_2.min(axis=0))\n",
    "\n",
    "\n",
    "#ANALYSIS OF CLUSTER 3\n",
    "#Create dataframe that only contains superheroes that have been assigned to cluster 3 by k-means algorithm\n",
    "labels_3 = np.where(kmeans_tsne.labels_ == 3)\n",
    "df_cluster_3 = df_tsne.iloc[labels_3]\n",
    "\n",
    "#compute ratio of number of superheroes in cluster 3 with respect to total number of superheroes in all clusters\n",
    "len_3 = df_cluster_3.shape[0]\n",
    "ratio_3 = truncate(len_3 / len_tsne * 100, 1)\n",
    "\n",
    "#compute ratios of gender\n",
    "f_3 = truncate(df_cluster_3[df_clean['gender']=='Female'].shape[0] / len_3 * 100, 1)\n",
    "m_3 = truncate(df_cluster_3[df_clean['gender']=='Male'].shape[0] / len_3 * 100, 1)\n",
    "\n",
    "#compute ratios of alignments\n",
    "g_3 = truncate(df_cluster_3[df_clean['alignment']=='Good'].shape[0] / len_3 * 100, 1)\n",
    "b_3 = truncate(df_cluster_3[df_clean['alignment']=='Bad'].shape[0] / len_3 * 100, 1)\n",
    "n_3 = truncate(df_cluster_3[df_clean['alignment']=='Neutral'].shape[0] / len_3 * 100, 1)\n",
    "u_3 = truncate(df_cluster_3[(df_clean['alignment'].isnull())].shape[0] / len_3 * 100, 1)\n",
    "\n",
    "#get basic statistics of cluster 3\n",
    "#print(df_cluster_3.mean(axis=0).round(1), df_cluster_3.max(axis=0), df_cluster_3.min(axis=0))"
   ]
  },
  {
   "cell_type": "code",
   "execution_count": null,
   "metadata": {},
   "outputs": [],
   "source": [
    "#Plot table of Cluster Analysis\n",
    "\n",
    "fig, ax = plt.subplots()\n",
    "ax.get_xaxis().set_visible(False)\n",
    "ax.get_yaxis().set_visible(False)\n",
    "plt.box(on=None)\n",
    "\n",
    "columns_table = ('Cluster 0', 'Cluster 1', 'Cluster 2', 'Cluster 3')\n",
    "rows_table = ('Number of Superheroes', 'Percentage of Total', 'Male (%)', 'Female (%)', 'Good (%)', 'Bad (%)', 'Neutral (%)',\n",
    "             'Undefined (%)', 'Comments\\n')\n",
    "data = [[len_0, len_1, len_2, len_3],\n",
    "       [ratio_0, ratio_1, ratio_2, ratio_3],\n",
    "       [m_0, m_1, m_2, m_3],\n",
    "       [f_0, f_1, f_2, f_3],\n",
    "       [g_0, g_1, g_2, g_3],\n",
    "       [b_0, b_1, b_2, b_3],\n",
    "       [n_0, n_1, n_2, n_3],\n",
    "       [u_0, u_1, u_2, u_3],\n",
    "       ['Scores highly above average\\nContains all superheroes with infinity values', 'Scores are below average', 'Scores are heavily below average\\noverall_scores always = 15', 'Scores are below average']]\n",
    "\n",
    "cluster_table = plt.table(cellText=data, rowColours=[\"palegreen\"] * 9, colColours=[\"palegreen\"] * 9, rowLabels=rows_table,\n",
    "                      colLabels=columns_table,\n",
    "                      loc='center')\n",
    "cluster_table.auto_set_font_size(False)\n",
    "cluster_table.set_fontsize(15)\n",
    "cluster_table.scale(5, 5)\n",
    "plt.show()"
   ]
  },
  {
   "cell_type": "markdown",
   "metadata": {},
   "source": [
    "### Summary of Cluster Analysis\n",
    "Each of the four clusters, that resulted from k-Means applied to the t-SNE-reduced dataframe, was investigated with simple mathematical calculations regarding its absolute and relative size, its gender distribution and its alignment distribution.<br>Cluster 0 is almost completely male, and contains, among other strong superheroes, all superheroes with infinity values as overall_scores (16 male, 2 female). Therefore, the mean scores of cluster 0 are highly above average.<br>Cluster 1 is completely female, and the mean scores lie below the average of the complete dataset.<br> Cluster 2 is mostly male and contains a huge number of superheroes, which all have 15 as overall_score. Therefore, the mean of all score in this cluster is below average.<br> Cluster 3 is completely male and contains the weak male superheroes.<br>We can conclude that the cluster algorithm has produced the clusters primarily based in gender, and secondarily based on the mean of all scores, among which the overall_score seems to have dominated."
   ]
  },
  {
   "cell_type": "markdown",
   "metadata": {},
   "source": [
    "## Decision Tree"
   ]
  },
  {
   "cell_type": "code",
   "execution_count": null,
   "metadata": {},
   "outputs": [],
   "source": [
    "sh_rf = df_clean[['gender','overall_score','sum_superpowers','intelligence_score','strength_score','speed_score','durability_score','power_score', 'combat_score']]\n",
    "sh_rf = sh_rf[(sh_rf[\"gender\"] == 'Male') | (sh_rf[\"gender\"] == 'Female')]\n",
    "#sh_rf = pd.get_dummies(sh_rf, columns=['gender'])\n",
    "\n",
    "y = sh_rf['gender'].values\n",
    "X = sh_rf[['overall_score', 'sum_superpowers','intelligence_score','strength_score','speed_score','durability_score','power_score', 'combat_score']].values\n",
    "\n",
    "\n",
    "X_train, X_test, y_train, y_test = train_test_split(X, y, test_size=0.3)\n",
    "\n",
    "sc = StandardScaler()\n",
    "X_train = sc.fit_transform(X_train)\n",
    "X_test = sc.transform(X_test)\n",
    "\n",
    "\n",
    "clf=DecisionTreeClassifier(random_state=0)\n",
    "clf.fit(X_train,y_train)\n",
    "y_pred=clf.predict(X_test)\n",
    "\n",
    "print(\"Accuracy:\",metrics.accuracy_score(y_test, y_pred))\n",
    "tree.plot_tree(clf, fontsize=10)\n"
   ]
  },
  {
   "cell_type": "code",
   "execution_count": null,
   "metadata": {},
   "outputs": [],
   "source": [
    "feature_cols = ['overall score', 'sum of superpowers','intelligence','strength','speed','durability','power', 'combat']"
   ]
  },
  {
   "cell_type": "code",
   "execution_count": null,
   "metadata": {},
   "outputs": [],
   "source": [
    "#vizualising the whole tree (not recommended, wherefore all lines are commented out)\n",
    "#dot_data = StringIO()\n",
    "#export_graphviz(clf, out_file=dot_data,  \n",
    "                #filled=True, rounded=True,\n",
    "                #special_characters=True,feature_names = feature_cols,\n",
    "                #class_names=['male','female'])\n",
    "#graph = pydotplus.graph_from_dot_data(dot_data.getvalue())  \n",
    "#Image(graph.create_png())"
   ]
  },
  {
   "cell_type": "code",
   "execution_count": null,
   "metadata": {},
   "outputs": [],
   "source": [
    "# pruning the tree\n",
    "clf1 = DecisionTreeClassifier(criterion=\"entropy\", max_depth=3)\n",
    "clf1 = clf1.fit(X_train,y_train)\n",
    "y_pred = clf1.predict(X_test)\n",
    "print(\"Accuracy:\",metrics.accuracy_score(y_test, y_pred))"
   ]
  },
  {
   "cell_type": "code",
   "execution_count": null,
   "metadata": {},
   "outputs": [],
   "source": [
    "#visualizing the pruned tree\n",
    "dot_data = StringIO()\n",
    "export_graphviz(clf1, out_file=dot_data,  \n",
    "                filled=True, rounded=True,\n",
    "                special_characters=True, feature_names = feature_cols,class_names=['male','female'])\n",
    "graph = pydotplus.graph_from_dot_data(dot_data.getvalue())  \n",
    "Image(graph.create_png())"
   ]
  },
  {
   "cell_type": "markdown",
   "metadata": {},
   "source": [
    "## Hierarchical Clustering"
   ]
  },
  {
   "cell_type": "code",
   "execution_count": null,
   "metadata": {},
   "outputs": [],
   "source": [
    "#define dataframe for hierarchical clustering\n",
    "columns_hc = ['name','overall_score','intelligence_score', 'strength_score', 'speed_score', 'durability_score', 'power_score', 'combat_score',\n",
    "          'alignment', 'gender', 'has_electrokinesis', 'has_energy_constructs', 'has_mind_control_resistance','has_matter_manipulation', 'has_telepathy_resistance', 'has_mind_control', 'has_enhanced_hearing', 'has_dimensional_travel', 'has_element_control', 'has_size_changing', 'has_fire_resistance',\n",
    "         'has_fire_control', 'has_dexterity', 'has_reality_warping', 'has_illusions', 'has_energy_beams', 'has_peak_human_condition', 'has_shapeshifting', 'has_heat_resistance', 'has_jump', 'has_self-sustenance', 'has_energy_absorption', 'has_cold_resistance', 'has_magic', 'has_telekinesis', 'has_toxin_and_disease_resistance', 'has_telepathy', \n",
    "          'has_regeneration', 'has_immortality', 'has_teleportation', 'has_force_fields', 'has_energy_manipulation', 'has_endurance', 'has_longevity', 'has_weapon-based_powers', 'has_energy_blasts', 'has_enhanced_senses', 'has_invulnerability', 'has_stealth', 'has_marksmanship', 'has_flight', 'has_accelerated_healing', 'has_weapons_master', \n",
    "          'has_intelligence','has_reflexes', 'has_super_speed', 'has_durability', 'has_stamina', 'has_agility', 'has_super_strength', 'sum_scores', 'sum_superpowers']\n",
    "df_hc = pd.DataFrame(df_clean, columns=columns_hc)\n",
    "\n",
    "#replace gender levels by 1 and 0 and drop NAs\n",
    "df_hc['gender'].replace('Male','1', inplace = True)\n",
    "df_hc['gender'].replace('Female','0', inplace = True)\n",
    "df_hc['gender'] = pd.to_numeric(df_hc['gender'])\n",
    "df_hc.dropna(inplace=True)\n",
    "\n",
    "#get dummy variables that replace alignment levels\n",
    "df_hc = pd.get_dummies(df_hc, columns = [\"alignment\"])\n",
    "\n",
    "#subsetting clean dataset to top 20 good superheroines based on overall_score\n",
    "df_wgood=df_hc[(df_hc['gender']==0)&(df_hc['alignment_Good']==1)]\n",
    "df_wgood_top20 = (df_wgood.sort_values(by=['overall_score'], ascending = False)).head(20)\n",
    "\n",
    "#normalizing, clustering based on intelligence_score and strength_score\n",
    "ov_int_score = whiten(df_wgood_top20[['strength_score','intelligence_score']])\n",
    "mergings = linkage(ov_int_score,method='ward')\n",
    "names = np.array(df_wgood_top20['name'])\n",
    "\n",
    "#plotting\n",
    "fig4 = ff.create_dendrogram(ov_int_score, labels=names)\n",
    "fig4.update_layout(width=800, height=500, title_text='Clustering Among 20 Best Superheroines based on Intelligence and Strength')\n",
    "fig4.show()"
   ]
  },
  {
   "cell_type": "code",
   "execution_count": null,
   "metadata": {},
   "outputs": [],
   "source": [
    "#Investigating hierarchical clusters\n",
    "df_wgood_top20.reset_index()\n",
    "\n",
    "#cluster1\n",
    "ind_list1=[4,7,8,9]\n",
    "df_hc_1 = df_wgood_top20.iloc[ind_list1]\n",
    "df_hc_1\n",
    "\n",
    "#sub-cluster 2.1\n",
    "ind_list2_1=[3,5,6,10, 11, 13, 14, 15, 17, 18, 19]\n",
    "df_hc_2_1 = df_wgood_top20.iloc[ind_list2_1]\n",
    "df_hc_2_1\n",
    "\n",
    "#sub-cluster2.2\n",
    "ind_list2_2=[0, 1, 2, 12, 16]\n",
    "df_hc_2_2 = df_wgood_top20.iloc[ind_list2_2]\n",
    "df_hc_2_2"
   ]
  },
  {
   "cell_type": "markdown",
   "metadata": {},
   "source": [
    "### Summary of Hierarchical Clustering\n",
    "Among the top 20 good women based on overall score, we want to see the clusters based on intelligence_score and strength_score.<br>Cluster 1 has high intelligence and very high strength score, the average overall score is 20.<br>\n",
    "Cluster 2.1 has very high strength and intelligence score, but the average overall score is lower than 20.<br>\n",
    "Cluster 2.2 has absolutely high intelligence_score, very low length score but this cluster gets the highest overall score."
   ]
  }
 ],
 "metadata": {
  "kernelspec": {
   "display_name": "Python 3",
   "language": "python",
   "name": "python3"
  },
  "language_info": {
   "codemirror_mode": {
    "name": "ipython",
    "version": 3
   },
   "file_extension": ".py",
   "mimetype": "text/x-python",
   "name": "python",
   "nbconvert_exporter": "python",
   "pygments_lexer": "ipython3",
   "version": "3.7.6"
  }
 },
 "nbformat": 4,
 "nbformat_minor": 4
}
